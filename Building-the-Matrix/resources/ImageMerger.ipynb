{
 "metadata": {
  "name": "",
  "signature": "sha256:b1a91031f2db523b352fb60e8042fa39ffba10afb64923b8091b7df96d588a04"
 },
 "nbformat": 3,
 "nbformat_minor": 0,
 "worksheets": [
  {
   "cells": [
    {
     "cell_type": "code",
     "collapsed": false,
     "input": [
      "from PIL import Image\n",
      "from os import listdir\n",
      "from math import ceil\n",
      "from os.path import isfile, isdir, join\n",
      "\n",
      "mypath = \"./textures/FaceAssets/Boy\"\n",
      "atlasName =  \"boy_texture_atlas.png\"\n",
      "fileMappingName = \"boy_name_mappings.txt\"\n",
      "fileList = [f for f in listdir(mypath) \n",
      "                if (f.endswith(\".png\") or f.endswith(\".jpg\")\n",
      "                    or f.endswith(\".bmp\")) \n",
      "                    and not(f == atlasName) and isfile(join(mypath,f))]\n",
      "\n",
      "width = 0\n",
      "height = 0\n",
      "numImages = 0\n",
      "format = \"\"\n",
      "#assume all images are the same size \n",
      "#Set image sizes to size of largest image\n",
      "#images are kept within 2048 pixels wide to handle graphics card\n",
      "#restrictions\n",
      "for f in fileList:\n",
      "    img = Image.open(join(mypath,f))\n",
      "    width = max(img.size[0], width)\n",
      "    height = max(img.size[1], height)\n",
      "    numImages += 1\n",
      "\n",
      "    \n",
      "#Calcualte texture atlas details\n",
      "xOffset = 0\n",
      "yOffset = 0\n",
      "imgFormat = \"RGBA\"\n",
      "numImagesX = numImages if (numImages * width < 2048) else  2048/width\n",
      "numImagesY = ceil((numImages*width)/2048);\n",
      "textureAtlas = Image.new(imgFormat, ((int)(numImagesX*width), (int)(numImagesY*height)))\n",
      "nameFile = open(join(mypath,fileMappingName), \"w\")\n",
      "\n",
      "\n",
      "#Write out needed config data for the c++ loader\n",
      "#Each on a new line:\n",
      "#tile width\n",
      "#tile height\n",
      "#numTilesX\n",
      "#numTilesY\n",
      "#totalNumTiles\n",
      "#format\n",
      "nameFile.write(str(width) + \"\\n\")\n",
      "nameFile.write(str(height) + \"\\n\")\n",
      "nameFile.write(str(numImagesX) + \"\\n\")\n",
      "nameFile.write(str(numImagesY) + \"\\n\")\n",
      "nameFile.write(str(imgFormat) + \"\\n\")\n",
      "nameFile.write(str(numImages) + \"\\n\")\n",
      "\n",
      "#Build texture atlas\n",
      "i = 0  #image number\n",
      "for f in fileList:\n",
      "    img = Image.open(join(mypath,f));\n",
      "    #flip images to work with OpenGL\n",
      "    img = img.transpose(Image.FLIP_TOP_BOTTOM)\n",
      "    textureAtlas.paste(img, (xOffset, yOffset))\n",
      "    xOffset += width\n",
      "    imgName = f[0:f.find('.')]\n",
      "    nameFile.write(str(i) + \" \" + imgName + \"\\n\")\n",
      "    i += 1\n",
      "    print (imgName)\n",
      "    if(xOffset >= 2048):\n",
      "        xOffset = 0\n",
      "        yOffset += height\n",
      "    \n",
      "nameFile.close()  \n",
      "        \n",
      "textureAtlas.save(join(mypath, atlasName))\n",
      "textureAtlas.show()\n",
      "\n",
      "print (fileList)"
     ],
     "language": "python",
     "metadata": {},
     "outputs": [
      {
       "output_type": "stream",
       "stream": "stdout",
       "text": [
        "BoyHeadBack\n",
        "BoyHeadBottom\n",
        "BoyHeadFront\n",
        "BoyHeadSide1\n",
        "BoyHeadSide2\n",
        "BoyHeadTop\n",
        "['BoyHeadBack.png', 'BoyHeadBottom.png', 'BoyHeadFront.png', 'BoyHeadSide1.png', 'BoyHeadSide2.png', 'BoyHeadTop.png']"
       ]
      },
      {
       "output_type": "stream",
       "stream": "stdout",
       "text": [
        "\n"
       ]
      }
     ],
     "prompt_number": 6
    }
   ],
   "metadata": {}
  }
 ]
}