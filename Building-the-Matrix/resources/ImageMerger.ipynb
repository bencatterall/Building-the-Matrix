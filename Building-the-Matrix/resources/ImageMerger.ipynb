{
 "metadata": {
  "name": "",
  "signature": "sha256:ce3b87d38bb9582518ddbd218876e0add909ef25349bcca6959d0cf475201ed9"
 },
 "nbformat": 3,
 "nbformat_minor": 0,
 "worksheets": [
  {
   "cells": [
    {
     "cell_type": "code",
     "collapsed": false,
     "input": [
      "from PIL import Image\n",
      "from os import listdir\n",
      "from math import ceil\n",
      "from os.path import isfile, isdir, join\n",
      "\n",
      "mypath = \"./textures/\"\n",
      "atlasName =  \"texture_atlas.png\"\n",
      "fileList = [f for f in listdir(mypath) \n",
      "                if (f.endswith(\".png\") or f.endswith(\".jpg\")\n",
      "                    or f.endswith(\".bmp\")) \n",
      "                    and not(f == atlasName) and isfile(join(mypath,f))]\n",
      "\n",
      "width = 0\n",
      "height = 0\n",
      "numImages = 0\n",
      "format = \"\"\n",
      "#assume all images are the same size \n",
      "#Set image sizes to size of largest image\n",
      "#images are kept within 2048 pixels wide to handle graphics card\n",
      "#restrictions\n",
      "for f in fileList:\n",
      "    img = Image.open(join(mypath,f))\n",
      "    width = max(img.size[0], width)\n",
      "    height = max(img.size[1], height)\n",
      "    numImages += 1\n",
      "\n",
      "#Build the texture atlas\n",
      "xOffset = 0\n",
      "yOffset = 0\n",
      "numImagesX = numImages if (numImages * width < 2048) else  2048/width\n",
      "numImagesY = ceil((numImages*width)/2048);\n",
      "textureAtlas = Image.new(\"RGBA\", ((int)(numImagesX*width), (int)(numImagesY*height)))   \n",
      "for f in fileList:\n",
      "    img = Image.open(join(mypath,f));\n",
      "    textureAtlas.paste(img, (xOffset, yOffset))\n",
      "    xOffset += width\n",
      "    if(xOffset >= 2048):\n",
      "        xOffset = 0\n",
      "        yOffset += height\n",
      "        \n",
      "        \n",
      "textureAtlas.save(join(mypath, atlasName))\n",
      "textureAtlas.show()\n",
      "\n",
      "print (fileList)"
     ],
     "language": "python",
     "metadata": {},
     "outputs": [
      {
       "output_type": "stream",
       "stream": "stdout",
       "text": [
        "['grass.png', 'sand.png', 'stone.png', 'water.png']\n"
       ]
      }
     ],
     "prompt_number": 1
    }
   ],
   "metadata": {}
  }
 ]
}